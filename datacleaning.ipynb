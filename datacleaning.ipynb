{
 "cells": [
  {
   "cell_type": "code",
   "execution_count": null,
   "metadata": {},
   "outputs": [],
   "source": [
    "import pandas as pd\n",
    "import numpy as np\n",
    "import buckaroo\n",
    "from dataprep.eda import create_report"
   ]
  },
  {
   "cell_type": "code",
   "execution_count": 9,
   "metadata": {},
   "outputs": [],
   "source": [
    "import gc           # garbage collector\n",
    "import tracemalloc #track memory usage"
   ]
  },
  {
   "cell_type": "code",
   "execution_count": 63,
   "metadata": {},
   "outputs": [
    {
     "name": "stdout",
     "output_type": "stream",
     "text": [
      "current_usage 662.465553 MB \n",
      "peak_usage 1534.602203 MB\n"
     ]
    }
   ],
   "source": [
    "tracemalloc.start()             #start tracking memory usage\n",
    "data=pd.read_csv(\"Data\\Base.csv\") \n",
    "(current_usage,peak_usage)=tracemalloc.get_traced_memory() # get memory usage\n",
    "print(f\"current_usage {current_usage/1e6} MB \\npeak_usage {peak_usage/1e6} MB\") "
   ]
  },
  {
   "cell_type": "code",
   "execution_count": 8,
   "metadata": {},
   "outputs": [
    {
     "data": {
      "application/vnd.jupyter.widget-view+json": {
       "model_id": "86dec64a5bd840bbbd349eb00b01b518",
       "version_major": 2,
       "version_minor": 0
      },
      "text/plain": [
       "BuckarooWidget(commandConfig={'argspecs': {'dropcol': [None], 'to_datetime': [None], 'safeint': [None], 'filln…"
      ]
     },
     "metadata": {},
     "output_type": "display_data"
    }
   ],
   "source": [
    "data"
   ]
  },
  {
   "cell_type": "code",
   "execution_count": 5,
   "metadata": {},
   "outputs": [
    {
     "data": {
      "text/plain": [
       "0"
      ]
     },
     "execution_count": 5,
     "metadata": {},
     "output_type": "execute_result"
    }
   ],
   "source": [
    "data.duplicated().sum() # get sum of duplicated rows"
   ]
  },
  {
   "attachments": {},
   "cell_type": "markdown",
   "metadata": {},
   "source": [
    "#### Drop duplicates"
   ]
  },
  {
   "cell_type": "code",
   "execution_count": 65,
   "metadata": {},
   "outputs": [
    {
     "name": "stdout",
     "output_type": "stream",
     "text": [
      "current_usage 694.50225 MB \n",
      "peak_usage 1534.602203 MB\n"
     ]
    }
   ],
   "source": [
    "rduplicate_data=data.drop_duplicates(keep=\"first\") # drop duplicate rows and keep the first occured\n",
    "(current_usage,peak_usage)=tracemalloc.get_traced_memory()\n",
    "print(f\"current_usage {current_usage/1e6} MB \\npeak_usage {peak_usage/1e6} MB\")"
   ]
  },
  {
   "attachments": {},
   "cell_type": "markdown",
   "metadata": {},
   "source": [
    "### Change category to numeric"
   ]
  },
  {
   "cell_type": "code",
   "execution_count": 66,
   "metadata": {},
   "outputs": [
    {
     "name": "stdout",
     "output_type": "stream",
     "text": [
      "{'windows': 0, 'other': 1, 'linux': 2, 'macintosh': 3, 'x11': 4}\n"
     ]
    },
    {
     "data": {
      "text/plain": [
       "0         0\n",
       "1         0\n",
       "2         1\n",
       "3         2\n",
       "4         3\n",
       "         ..\n",
       "999995    2\n",
       "999996    0\n",
       "999997    1\n",
       "999998    0\n",
       "999999    2\n",
       "Name: device_os, Length: 1000000, dtype: int64"
      ]
     },
     "execution_count": 66,
     "metadata": {},
     "output_type": "execute_result"
    }
   ],
   "source": [
    "codes,_=pd.factorize(rduplicate_data[\"device_os\"]) #get category codes\n",
    "device_os_category= {category:value for value, category in zip(codes,rduplicate_data[\"device_os\"])} # get category codes with labels\n",
    "print(device_os_category)\n",
    "rduplicate_data[\"device_os\"]=codes # change categories to codes\n",
    "rduplicate_data[\"device_os\"]"
   ]
  },
  {
   "cell_type": "code",
   "execution_count": 70,
   "metadata": {},
   "outputs": [
    {
     "name": "stdout",
     "output_type": "stream",
     "text": [
      "{'windows': 0, 'other': 1, 'linux': 2, 'macintosh': 3, 'x11': 4}\n"
     ]
    },
    {
     "data": {
      "text/plain": [
       "0         0\n",
       "1         1\n",
       "2         2\n",
       "3         1\n",
       "4         1\n",
       "         ..\n",
       "999995    1\n",
       "999996    2\n",
       "999997    0\n",
       "999998    0\n",
       "999999    0\n",
       "Name: payment_type, Length: 1000000, dtype: int64"
      ]
     },
     "execution_count": 70,
     "metadata": {},
     "output_type": "execute_result"
    }
   ],
   "source": [
    "codes,_=pd.factorize(rduplicate_data[\"payment_type\"]) #get category codes\n",
    "payment_type_category= {category:value for value, category in zip(codes,rduplicate_data[\"payment_type\"])} # get category codes with labels\n",
    "print(payment_type_category)\n",
    "rduplicate_data[\"payment_type\"]=codes # change categories to codes\n",
    "rduplicate_data[\"payment_type\"]"
   ]
  },
  {
   "cell_type": "code",
   "execution_count": 71,
   "metadata": {},
   "outputs": [
    {
     "name": "stdout",
     "output_type": "stream",
     "text": [
      "{'CA': 0, 'CB': 1, 'CC': 2, 'CD': 3, 'CE': 4, 'CF': 5, 'CG': 6}\n"
     ]
    },
    {
     "data": {
      "text/plain": [
       "0         0\n",
       "1         0\n",
       "2         1\n",
       "3         0\n",
       "4         0\n",
       "         ..\n",
       "999995    0\n",
       "999996    2\n",
       "999997    5\n",
       "999998    0\n",
       "999999    0\n",
       "Name: employment_status, Length: 1000000, dtype: int64"
      ]
     },
     "execution_count": 71,
     "metadata": {},
     "output_type": "execute_result"
    }
   ],
   "source": [
    "codes,_=pd.factorize(rduplicate_data[\"employment_status\"]) #get category codes\n",
    "employment_status_category= {category:value for value, category in zip(codes,rduplicate_data[\"employment_status\"])} # get category codes with labels\n",
    "print(employment_status_category)\n",
    "rduplicate_data[\"employment_status\"]=codes # change categories to codes\n",
    "rduplicate_data[\"employment_status\"]"
   ]
  },
  {
   "cell_type": "code",
   "execution_count": 72,
   "metadata": {},
   "outputs": [
    {
     "name": "stdout",
     "output_type": "stream",
     "text": [
      "{'BA': 0, 'BB': 1, 'BC': 2, 'BD': 3, 'BE': 4, 'BF': 5, 'BG': 6}\n"
     ]
    },
    {
     "data": {
      "text/plain": [
       "0         0\n",
       "1         0\n",
       "2         0\n",
       "3         0\n",
       "4         0\n",
       "         ..\n",
       "999995    2\n",
       "999996    2\n",
       "999997    2\n",
       "999998    0\n",
       "999999    4\n",
       "Name: housing_status, Length: 1000000, dtype: int64"
      ]
     },
     "execution_count": 72,
     "metadata": {},
     "output_type": "execute_result"
    }
   ],
   "source": [
    "codes,_=pd.factorize(rduplicate_data[\"housing_status\"]) #get category codes\n",
    "housing_status_category= {category:value for value, category in zip(codes,rduplicate_data[\"housing_status\"])} # get category codes with labels\n",
    "print(housing_status_category)\n",
    "rduplicate_data[\"housing_status\"]=codes # change categories to codes\n",
    "rduplicate_data[\"housing_status\"]"
   ]
  },
  {
   "cell_type": "code",
   "execution_count": 73,
   "metadata": {},
   "outputs": [
    {
     "name": "stdout",
     "output_type": "stream",
     "text": [
      "{'INTERNET': 0, 'TELEAPP': 1}\n"
     ]
    },
    {
     "data": {
      "text/plain": [
       "0         0\n",
       "1         0\n",
       "2         0\n",
       "3         0\n",
       "4         0\n",
       "         ..\n",
       "999995    0\n",
       "999996    0\n",
       "999997    0\n",
       "999998    0\n",
       "999999    0\n",
       "Name: source, Length: 1000000, dtype: int64"
      ]
     },
     "execution_count": 73,
     "metadata": {},
     "output_type": "execute_result"
    }
   ],
   "source": [
    "codes,_=pd.factorize(rduplicate_data[\"source\"]) #get category codes\n",
    "source_category= {category:value for value, category in zip(codes,rduplicate_data[\"source\"])} # get category codes with labels\n",
    "print(source_category)\n",
    "rduplicate_data[\"source\"]=codes # change categories to codes\n",
    "rduplicate_data[\"source\"]"
   ]
  },
  {
   "cell_type": "code",
   "execution_count": null,
   "metadata": {},
   "outputs": [],
   "source": []
  },
  {
   "cell_type": "code",
   "execution_count": null,
   "metadata": {},
   "outputs": [],
   "source": []
  },
  {
   "cell_type": "code",
   "execution_count": null,
   "metadata": {},
   "outputs": [],
   "source": []
  },
  {
   "cell_type": "code",
   "execution_count": null,
   "metadata": {},
   "outputs": [],
   "source": [
    "create_report(data)"
   ]
  },
  {
   "cell_type": "code",
   "execution_count": null,
   "metadata": {},
   "outputs": [],
   "source": []
  }
 ],
 "metadata": {
  "kernelspec": {
   "display_name": "Python 3",
   "language": "python",
   "name": "python3"
  },
  "language_info": {
   "codemirror_mode": {
    "name": "ipython",
    "version": 3
   },
   "file_extension": ".py",
   "mimetype": "text/x-python",
   "name": "python",
   "nbconvert_exporter": "python",
   "pygments_lexer": "ipython3",
   "version": "3.9.6"
  },
  "orig_nbformat": 4
 },
 "nbformat": 4,
 "nbformat_minor": 2
}
